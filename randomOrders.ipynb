{
 "cells": [
  {
   "cell_type": "code",
   "execution_count": 61,
   "metadata": {},
   "outputs": [],
   "source": [
    "import random\n",
    "import string\n",
    "import names\n",
    "\n",
    "def generate_item_name():\n",
    "    return names.get_first_name()[:random.randint(2, 6)] + names.get_first_name()[random.randint(1, 5):]\n",
    "\n",
    "def create_order(length, order_num):\n",
    "    # Create a viable english name for the order\n",
    "    name = names.get_first_name() + f\"_{order_num}\"\n",
    "\n",
    "    # Create a few random items for the order\n",
    "    items = []\n",
    "    for i in range(length):\n",
    "        item = generate_item_name()\n",
    "        items.append(item)\n",
    "    print(f\"create {name} {items}\")\n",
    "    return name, items\n",
    "\n",
    "def modify_order(name, items):\n",
    "    # Add a few more random items to the order\n",
    "    for i in range(3):\n",
    "        item = generate_item_name()\n",
    "        items.append(item)\n",
    "    print(f\"modify {name} {items}\")\n",
    "    return name, items\n",
    "\n",
    "def create_experience(num_customers):\n",
    "    # Create a few random orders for the experience\n",
    "    # Each order has a 1/3 chance of being modified after each order creation\n",
    "    # Each order has a 70% chance of being paid for after each order creation\n",
    "    # Each order has a 40% chance of being deleted after each order creation\n",
    "\n",
    "    orders = []\n",
    "    paid_orders = []\n",
    "    for i in range(num_customers):\n",
    "        order = create_order(random.randint(1, 3), i+1)\n",
    "        orders.append(order)\n",
    "\n",
    "        if random.random() < 0.33: # Modify order\n",
    "            order_num = random.randint(0, len(orders) - 1)\n",
    "            if orders[order_num][0] in paid_orders:\n",
    "                print(f\"delete {orders[order_num][0]}\")\n",
    "                orders.pop(order_num)\n",
    "                continue\n",
    "            elif len(orders[order_num][1]) > 4:\n",
    "                print(f\"delete {orders[order_num][0]}\")\n",
    "                orders.pop(order_num)\n",
    "                continue\n",
    "            order = modify_order(orders[order_num][0], orders[order_num][1])\n",
    "            orders[order_num] = order\n",
    "\n",
    "        if random.random() < 0.7: # Pay order\n",
    "            order_num = random.randint(0, len(orders) - 1)\n",
    "            while orders[order_num][0] in paid_orders:\n",
    "                order_num = random.randint(0, len(orders) - 1)\n",
    "            print(f\"pay {orders[order_num][0]}\")\n",
    "            paid_orders.append(orders[order_num][0])\n",
    "\n",
    "        if random.random()+0.1*(len(orders)/num_customers) < 0.3: # Delete order\n",
    "            order_num = random.randint(0, len(orders) - 1)\n",
    "            print(f\"delete {orders[order_num][0]}\")\n",
    "            orders.pop(order_num)\n",
    "        \n",
    "        if len(orders) > 12 and random.random() < 0.7:\n",
    "            order_num = random.randint(0, len(orders) - 1)\n",
    "            print(f\"delete {orders[order_num][0]}\")\n",
    "            orders.pop(order_num)\n",
    "        \n",
    "        if len(orders) > 20 and random.random() < 0.8:\n",
    "            order_num = random.randint(0, len(orders) - 1)\n",
    "            print(f\"delete {orders[order_num][0]}\")\n",
    "            orders.pop(order_num)\n",
    "            \n",
    "    "
   ]
  },
  {
   "cell_type": "code",
   "execution_count": 65,
   "metadata": {},
   "outputs": [
    {
     "name": "stdout",
     "output_type": "stream",
     "text": [
      "create Mary_1 ['Lindaa']\n",
      "create Freda_2 ['Ricelle', 'Clane']\n",
      "create Keith_3 ['Margarnesto']\n",
      "pay Keith_3\n",
      "create Joanna_4 ['Lufer']\n",
      "pay Mary_1\n",
      "delete Joanna_4\n",
      "create Kathrine_5 ['Gabt']\n",
      "delete Kathrine_5\n"
     ]
    }
   ],
   "source": [
    "create_experience(5)"
   ]
  }
 ],
 "metadata": {
  "kernelspec": {
   "display_name": "Python 3",
   "language": "python",
   "name": "python3"
  },
  "language_info": {
   "codemirror_mode": {
    "name": "ipython",
    "version": 3
   },
   "file_extension": ".py",
   "mimetype": "text/x-python",
   "name": "python",
   "nbconvert_exporter": "python",
   "pygments_lexer": "ipython3",
   "version": "3.10.10"
  }
 },
 "nbformat": 4,
 "nbformat_minor": 2
}
